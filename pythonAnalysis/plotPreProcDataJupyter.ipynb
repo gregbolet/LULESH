{
 "cells": [
  {
   "cell_type": "code",
   "execution_count": 3,
   "metadata": {},
   "outputs": [],
   "source": [
    "import os\n",
    "import matplotlib.pyplot as plt\n",
    "import numpy as np\n",
    "import pandas as pd\n",
    "import glob\n",
    "import argparse\n",
    "import time"
   ]
  },
  {
   "cell_type": "code",
   "execution_count": 4,
   "metadata": {},
   "outputs": [],
   "source": [
    "# Let's go through all the data directories\n",
    "data_dir_base = '/g/g15/bolet1/workspace/lulesh-region-fix-correct/LULESH/runData'\n",
    "logfile_dir_base = '/g/g15/bolet1/workspace/lulesh-region-fix-correct/LULESH/runlogs'\n",
    "output_csvs_dir = '/g/g15/bolet1/workspace/lulesh-region-fix-correct/LULESH/preprocData'\n",
    "\n",
    "os.chdir(output_csvs_dir)"
   ]
  },
  {
   "cell_type": "code",
   "execution_count": 5,
   "metadata": {},
   "outputs": [
    {
     "name": "stdout",
     "output_type": "stream",
     "text": [
      "Loading file: VA_RegionMod_explrRoundRobin_c8_pol3_depth4_trainSize80.csv\n",
      "Read in CSV file in 31 second(s)\n",
      "Data shape:  (22032014, 12)\n"
     ]
    }
   ],
   "source": [
    "csvfile = \"VA_RegionMod_explrRoundRobin_c8_pol3_depth4_trainSize80.csv\"\n",
    "\n",
    "print('Loading file:', csvfile)\n",
    "t = time.perf_counter()\n",
    "df = pd.read_csv(csvfile, sep=',')\n",
    "elapsed_time = time.perf_counter() - t\n",
    "print('Read in CSV file in', int(elapsed_time), 'second(s)')\n",
    "print('Data shape: ', df.shape)"
   ]
  },
  {
   "cell_type": "code",
   "execution_count": null,
   "metadata": {},
   "outputs": [],
   "source": []
  }
 ],
 "metadata": {
  "kernelspec": {
   "display_name": "Python 3",
   "language": "python",
   "name": "python3"
  },
  "language_info": {
   "codemirror_mode": {
    "name": "ipython",
    "version": 3
   },
   "file_extension": ".py",
   "mimetype": "text/x-python",
   "name": "python",
   "nbconvert_exporter": "python",
   "pygments_lexer": "ipython3",
   "version": "3.7.2"
  }
 },
 "nbformat": 4,
 "nbformat_minor": 4
}
